{
 "cells": [
  {
   "cell_type": "code",
   "execution_count": 15,
   "metadata": {},
   "outputs": [
    {
     "output_type": "stream",
     "name": "stdout",
     "text": [
      "[INFO] reading dataset....\n"
     ]
    }
   ],
   "source": [
    "import os\n",
    "import numpy as np\n",
    "import h5py\n",
    "import pandas as pd\n",
    "import config as cfg\n",
    "import math\n",
    "\n",
    "import pickle\n",
    "import matplotlib.pyplot as plt\n",
    "\n",
    "print(\"[INFO] reading dataset....\")\n",
    "with h5py.File(\"/Users/saeedkazemi/Documents/Python/EE6563/Dataset/project/Step Scan Dataset/[H5]/footpressures_align.h5\", \"r\") as hdf:\n",
    "    metadata = hdf.get(\"/barefoot/metadata\")[:]"
   ]
  },
  {
   "cell_type": "code",
   "execution_count": 16,
   "metadata": {},
   "outputs": [],
   "source": [
    "index = [\"Sample_\" + str(i) for i in np.arange(1744)]\n",
    "col = [ str(i) for i in np.arange(8)]\n",
    "a = pd.DataFrame(metadata[0:1744, 0:8], index=index, columns=col)\n",
    "\n",
    "\n",
    "index = [\"Sample_\" + str(i) for i in np.arange(1744)]\n",
    "w = pd.DataFrame(np.zeros([1744, 2]), index=index, columns=[\"ID\", \"distance\"])\n",
    "subjects = set(a[\"0\"])"
   ]
  },
  {
   "cell_type": "code",
   "execution_count": 20,
   "metadata": {
    "tags": []
   },
   "outputs": [
    {
     "output_type": "stream",
     "name": "stdout",
     "text": [
      "                  0     1           2    3     4    5      6     7\nSample_1558  5640.0  30.0  106.470650  1.0   0.0  1.0  590.0  62.0\nSample_1559  5640.0  43.0  113.137085  0.0   1.0  1.0  484.0  52.0\nSample_1560  5640.0  50.0  105.574615  1.0   2.0  1.0  372.0  68.0\nSample_1561  5640.0  54.0  112.285347  0.0   3.0  1.0  267.0  57.0\nSample_1562  5640.0  54.0  107.200745  1.0   4.0  1.0  155.0  65.0\nSample_1563  5640.0  41.0  107.200745  0.0   5.0  1.0   49.0  49.0\nSample_1564  5640.0  48.0   94.339813  1.0   6.0  0.0  126.0  25.0\nSample_1565  5640.0  24.0  117.273186  0.0   7.0  0.0  220.0  33.0\nSample_1566  5640.0  39.0  109.767937  1.0   8.0  0.0  337.0  25.0\nSample_1567  5640.0  39.0  110.453613  0.0   9.0  0.0  442.0  57.0\nSample_1568  5640.0  29.0   96.881371  1.0  10.0  0.0  552.0  47.0\nSample_1569  5640.0  30.0   96.881371  0.0  11.0  0.0  647.0  66.0\nSample_1570  5640.0  36.0  103.942291  1.0  12.0  1.0  690.0  67.0\nSample_1571  5640.0  41.0  113.437210  0.0  13.0  1.0  588.0  47.0\nSample_1572  5640.0  56.0   98.310730  1.0  14.0  1.0  476.0  65.0\nSample_1573  5640.0  54.0  106.367287  0.0  15.0  1.0  379.0  49.0\nSample_1574  5640.0  28.0  100.439034  1.0  16.0  1.0  274.0  66.0\nSample_1575  5640.0  30.0  105.905617  0.0  17.0  1.0  176.0  44.0\nSample_1576  5640.0  30.0  105.905617  1.0  18.0  1.0   72.0  64.0\nSample_1577  5640.0  55.0  102.420700  1.0  19.0  0.0   38.0  50.0\nSample_1578  5640.0  24.0  113.991226  0.0  20.0  0.0  139.0  67.0\nSample_1579  5640.0  30.0  105.380264  1.0  21.0  0.0  252.0  52.0\nSample_1580  5640.0  30.0  106.301460  0.0  22.0  0.0  356.0  69.0\nSample_1581  5640.0  22.0   99.503769  1.0  23.0  0.0  460.0  47.0\nSample_1582  5640.0  30.0  113.282829  0.0  24.0  0.0  559.0  57.0\nSample_1583  5640.0  35.0  113.282829  1.0  25.0  0.0  671.0  40.0\n                4    5      6     7\nSample_1558   0.0  1.0  590.0  62.0\nSample_1559   1.0  1.0  484.0  52.0\nSample_1560   2.0  1.0  372.0  68.0\nSample_1561   3.0  1.0  267.0  57.0\nSample_1562   4.0  1.0  155.0  65.0\nSample_1563   5.0  1.0   49.0  49.0\nSample_1564   6.0  0.0  126.0  25.0\nSample_1565   7.0  0.0  220.0  33.0\nSample_1566   8.0  0.0  337.0  25.0\nSample_1567   9.0  0.0  442.0  57.0\nSample_1568  10.0  0.0  552.0  47.0\nSample_1569  11.0  0.0  647.0  66.0\nSample_1570  12.0  1.0  690.0  67.0\nSample_1571  13.0  1.0  588.0  47.0\nSample_1572  14.0  1.0  476.0  65.0\nSample_1573  15.0  1.0  379.0  49.0\nSample_1574  16.0  1.0  274.0  66.0\nSample_1575  17.0  1.0  176.0  44.0\nSample_1576  18.0  1.0   72.0  64.0\nSample_1577  19.0  0.0   38.0  50.0\nSample_1578  20.0  0.0  139.0  67.0\nSample_1579  21.0  0.0  252.0  52.0\nSample_1580  22.0  0.0  356.0  69.0\nSample_1581  23.0  0.0  460.0  47.0\nSample_1582  24.0  0.0  559.0  57.0\nSample_1583  25.0  0.0  671.0  40.0\n"
     ]
    },
    {
     "output_type": "error",
     "ename": "ZeroDivisionError",
     "evalue": "division by zero",
     "traceback": [
      "\u001b[0;31m---------------------------------------------------------------------------\u001b[0m",
      "\u001b[0;31mZeroDivisionError\u001b[0m                         Traceback (most recent call last)",
      "\u001b[0;32m<ipython-input-20-711a05d05f57>\u001b[0m in \u001b[0;36m<module>\u001b[0;34m\u001b[0m\n\u001b[1;32m      9\u001b[0m         \u001b[0mprint\u001b[0m\u001b[0;34m(\u001b[0m\u001b[0mb\u001b[0m\u001b[0;34m.\u001b[0m\u001b[0miloc\u001b[0m\u001b[0;34m[\u001b[0m\u001b[0;34m:\u001b[0m\u001b[0;34m,\u001b[0m\u001b[0;36m4\u001b[0m\u001b[0;34m:\u001b[0m\u001b[0;36m8\u001b[0m\u001b[0;34m]\u001b[0m\u001b[0;34m)\u001b[0m\u001b[0;34m\u001b[0m\u001b[0;34m\u001b[0m\u001b[0m\n\u001b[1;32m     10\u001b[0m         \u001b[0mc\u001b[0m\u001b[0;34m=\u001b[0m\u001b[0mb\u001b[0m\u001b[0;34m.\u001b[0m\u001b[0miloc\u001b[0m\u001b[0;34m[\u001b[0m\u001b[0;34m:\u001b[0m\u001b[0;34m,\u001b[0m\u001b[0;36m4\u001b[0m\u001b[0;34m:\u001b[0m\u001b[0;36m8\u001b[0m\u001b[0;34m]\u001b[0m\u001b[0;34m.\u001b[0m\u001b[0mvalues\u001b[0m\u001b[0;34m\u001b[0m\u001b[0;34m\u001b[0m\u001b[0m\n\u001b[0;32m---> 11\u001b[0;31m         \u001b[0;36m1\u001b[0m\u001b[0;34m/\u001b[0m\u001b[0;36m0\u001b[0m\u001b[0;34m\u001b[0m\u001b[0;34m\u001b[0m\u001b[0m\n\u001b[0m\u001b[1;32m     12\u001b[0m \u001b[0;34m\u001b[0m\u001b[0m\n\u001b[1;32m     13\u001b[0m         \u001b[0maa\u001b[0m\u001b[0;34m=\u001b[0m\u001b[0mstep\u001b[0m\u001b[0;34m+\u001b[0m\u001b[0;36m1\u001b[0m\u001b[0;34m\u001b[0m\u001b[0;34m\u001b[0m\u001b[0m\n",
      "\u001b[0;31mZeroDivisionError\u001b[0m: division by zero"
     ]
    }
   ],
   "source": [
    "for subject in subjects:\n",
    "    b=a[ a[\"0\"] == subject ] \n",
    "    steps = set(b[\"4\"])\n",
    "    # print(b)\n",
    "\n",
    "\n",
    "    diss=list()\n",
    "    for step in range(b.shape[0]-1):\n",
    "        # print(b.iloc[:,4:8])\n",
    "        c=b.iloc[:,4:8].values\n",
    "        # 1/0\n",
    "\n",
    "        aa=step+1\n",
    "        if c[step,1]==c[step+1,1]:\n",
    "            x=c[step,2]-c[step+1,2]\n",
    "            y=c[step,3]-c[step+1,3]\n",
    "            a.loc[(a[\"4\"]==step) & (a[\"0\"]==subject),\"2\"] = math.sqrt(x**2+y**2)\n",
    "        else:\n",
    "            a.loc[(a[\"4\"]==step) & (a[\"0\"]==subject),\"2\"] = a.loc[(a[\"4\"]==step-1) & (a[\"0\"]==subject),\"2\"].values\n",
    "    a.loc[(a[\"4\"]==step+1) & (a[\"0\"]==subject),\"2\"] = a.loc[(a[\"4\"]==step) & (a[\"0\"]==subject),\"2\"].values\n",
    "    #diss.append(diss[-1])"
   ]
  },
  {
   "cell_type": "code",
   "execution_count": 21,
   "metadata": {},
   "outputs": [
    {
     "output_type": "stream",
     "name": "stdout",
     "text": [
      "Sample_0     144.533737\nSample_1     142.425415\nSample_2     143.013992\nSample_3     151.558563\nSample_4     151.558563\nSample_5     137.320786\nSample_6     151.907867\nSample_7     141.795624\nSample_8     143.349228\nSample_9     143.349228\nSample_10    145.674301\nSample_11    138.177429\nSample_12    147.105408\nSample_13    144.003479\nSample_14    144.003479\nSample_15    137.873123\nSample_16    146.154022\nSample_17    143.610580\nSample_18    148.222809\nSample_19    148.222809\nSample_20    123.822456\nSample_21    133.296661\nSample_22    123.470642\nSample_23    130.862518\nSample_24    118.726578\nSample_25    118.726578\nSample_26    135.003708\nSample_27    117.477661\nSample_28    130.736374\nSample_29    114.947815\nSample_30    130.587143\nSample_31    112.329872\nSample_32    112.329872\nSample_33    119.854080\nSample_34    127.011810\nSample_35    112.680969\nSample_36    127.424484\nSample_37    112.071404\nSample_38    124.020157\nSample_39    124.020157\nSample_40    120.066650\nSample_41    110.679718\nSample_42    125.031998\nSample_43    115.247559\nSample_44    122.576508\nSample_45    122.576508\nSample_46    122.983742\nSample_47    124.426682\nSample_48    123.975807\nSample_49    130.613937\nName: 2, dtype: float32\n"
     ]
    }
   ],
   "source": [
    "print(a[\"2\"].head(50)) \n",
    "    # 1/0\n",
    "# with open(\"/Users/saeedkazemi/Documents/Python/EE6563/Dataset/project/pickle/df_inter_stride.pickle\", \"wb\") as handle:\n",
    "#    pickle.dump(a[\"2\"], handle)\n",
    "\n",
    "# with open(\"/Users/saeedkazemi/Documents/Python/EE6563/Dataset/project/pickle/df_inter_stride.txt\", \"w\") as handle:\n",
    "#     handle.write(a[\"2\"].to_string())"
   ]
  },
  {
   "cell_type": "code",
   "execution_count": null,
   "metadata": {},
   "outputs": [],
   "source": []
  }
 ],
 "metadata": {
  "kernelspec": {
   "display_name": "Python 3",
   "language": "python",
   "name": "python3"
  },
  "language_info": {
   "codemirror_mode": {
    "name": "ipython",
    "version": 3
   },
   "file_extension": ".py",
   "mimetype": "text/x-python",
   "name": "python",
   "nbconvert_exporter": "python",
   "pygments_lexer": "ipython3",
   "version": "3.8.3-final"
  }
 },
 "nbformat": 4,
 "nbformat_minor": 2
}