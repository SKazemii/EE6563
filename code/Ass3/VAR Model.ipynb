{
 "cells": [
  {
   "cell_type": "code",
   "execution_count": 1,
   "metadata": {},
   "outputs": [],
   "source": [
    "import math\n",
    "import os\n",
    "\n",
    "import matplotlib.pyplot as plt\n",
    "import numpy as np\n",
    "import pandas as pd\n",
    "X1 = [[0.5], [1.0], [-1.0], [0.42], [0.24]]\n",
    "X2 = [[2.4], [4.2], [0.5], [-0.24]]"
   ]
  },
  {
   "cell_type": "code",
   "execution_count": 2,
   "metadata": {},
   "outputs": [],
   "source": [
    "X = np.concatenate([X1, X2])\n",
    "lengths = [len(X1), len(X2)]"
   ]
  },
  {
   "cell_type": "code",
   "execution_count": 4,
   "metadata": {},
   "outputs": [
    {
     "output_type": "execute_result",
     "data": {
      "text/plain": [
       "[5, 4]"
      ]
     },
     "metadata": {},
     "execution_count": 4
    }
   ],
   "source": [
    "lengths"
   ]
  },
  {
   "cell_type": "code",
   "execution_count": 3,
   "metadata": {},
   "outputs": [
    {
     "output_type": "stream",
     "name": "stdout",
     "text": [
      "0\n32\n64\n96\n128\n160\n"
     ]
    }
   ],
   "source": [
    "for i in range(0, 256 - 64, 32):\n",
    "    print(i)"
   ]
  },
  {
   "cell_type": "code",
   "execution_count": 4,
   "metadata": {},
   "outputs": [
    {
     "output_type": "stream",
     "name": "stdout",
     "text": [
      "The data is:\n[[[ 13.  25.  30. ... 123. 123. 123.]\n  [ 25.  39.   6. ... 122. 122. 122.]\n  [ 31.   8.  39. ...  35.  35.  35.]\n  [ 43.  46.  13. ...  36.  36.  36.]\n  [ 52.  55.  50. ...  37.  37.  37.]\n  [ 68.  70.  69. ...  38.  38.  38.]]\n\n [[ 16.  13.  15. ... 123. 123. 123.]\n  [108.   8.  35. ... 122. 122. 122.]\n  [120.  29.  23. ...  35.  35.  35.]\n  [ 88.  20.  51. ...  36.  36.  36.]\n  [ 57.  52.  30. ...  37.  37.  37.]\n  [ 95.  42.  64. ...  38.  38.  38.]]\n\n [[ 15.  12.  36. ... 123. 123. 123.]\n  [ 27.  42.  43. ... 122. 122. 122.]\n  [ 59.  27.  53. ...  35.  35.  35.]\n  [107.  57.  23. ...  36.  36.  36.]\n  [ 33.  48.  87. ...  37.  37.  37.]\n  [115.  63.  98. ...  38.  38.  38.]]\n\n ...\n\n [[ 11.  25.  36. ... 123. 123. 123.]\n  [ 20.  17.   8. ... 122. 122. 122.]\n  [ 33.   7.  57. ...  35.  35.  35.]\n  [ 47.  34.  19. ...  36.  36.  36.]\n  [ 56.  44. 112. ...  37.  37.  37.]\n  [ 81.  50.  96. ...  38.  38.  38.]]\n\n [[ 10.  35.   9. ... 123. 123. 123.]\n  [ 17.  28.  39. ... 122. 122. 122.]\n  [ 28.  16.  17. ...  35.  35.  35.]\n  [ 35.  52.  33. ...  36.  36.  36.]\n  [ 58.  45. 103. ...  37.  37.  37.]\n  [ 50.  73.  26. ...  38.  38.  38.]]\n\n [[ 17.  12.  14. ... 123. 123. 123.]\n  [ 52.  20.   9. ... 122. 122. 122.]\n  [ 30.  31.  19. ...  35.  35.  35.]\n  [  8.  41.  36. ...  36.  36.  36.]\n  [ 63.  46.  41. ...  37.  37.  37.]\n  [ 74.  69.  47. ...  38.  38.  38.]]]\n"
     ]
    }
   ],
   "source": [
    "import numpy as np\n",
    "\n",
    "# The array is loaded into data\n",
    "data = np.load('/Users/saeedkazemi/Documents/Python/EE6563/Dataset/Ass3/all_obs.npy')\n",
    "\n",
    "print(\"The data is:\")\n",
    "print(data)"
   ]
  },
  {
   "cell_type": "code",
   "execution_count": null,
   "metadata": {},
   "outputs": [],
   "source": []
  }
 ],
 "metadata": {
  "kernelspec": {
   "display_name": "Python 3",
   "language": "python",
   "name": "python3"
  },
  "language_info": {
   "codemirror_mode": {
    "name": "ipython",
    "version": 3
   },
   "file_extension": ".py",
   "mimetype": "text/x-python",
   "name": "python",
   "nbconvert_exporter": "python",
   "pygments_lexer": "ipython3",
   "version": "3.8.3-final"
  }
 },
 "nbformat": 4,
 "nbformat_minor": 2
}